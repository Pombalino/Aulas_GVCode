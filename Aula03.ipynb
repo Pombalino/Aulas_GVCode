{
 "cells": [
  {
   "cell_type": "markdown",
   "metadata": {},
   "source": [
    "# GVCode Aula 03: Aplicações com Python"
   ]
  },
  {
   "cell_type": "markdown",
   "metadata": {},
   "source": [
    "## #0 Desafio da aula passada: Números primos!"
   ]
  },
  {
   "cell_type": "code",
   "execution_count": 1,
   "metadata": {},
   "outputs": [],
   "source": [
    "def test_prime(num):\n",
    "    if (num == 1):\n",
    "        return False\n",
    "    elif (num == 2):\n",
    "        return True;\n",
    "    else:\n",
    "        for i in range(2,n):\n",
    "            if (num % i == 0):\n",
    "                return False\n",
    "        return True"
   ]
  },
  {
   "cell_type": "code",
   "execution_count": 2,
   "metadata": {},
   "outputs": [],
   "source": [
    "ls = [x for x in range(2,150) if test_prime(x)]"
   ]
  },
  {
   "cell_type": "code",
   "execution_count": 3,
   "metadata": {},
   "outputs": [
    {
     "name": "stdout",
     "output_type": "stream",
     "text": [
      "[2, 3, 5, 7, 11, 13, 17, 19, 23, 29, 31, 37, 41, 43, 47, 53, 59, 61, 67, 71, 73, 79, 83, 89, 97, 101, 103, 107, 109, 113, 127, 131, 137, 139, 149]\n"
     ]
    }
   ],
   "source": [
    "print(ls)"
   ]
  },
  {
   "cell_type": "markdown",
   "metadata": {},
   "source": [
    "## #1: Ordem de Compra e Venda"
   ]
  },
  {
   "cell_type": "code",
   "execution_count": 4,
   "metadata": {},
   "outputs": [],
   "source": [
    "prices_1 = [1.1, 1.2]\n",
    "prices_2 = [1.1, 1.5]\n",
    "prices_3 = [1.1, 0.9]"
   ]
  },
  {
   "cell_type": "code",
   "execution_count": 5,
   "metadata": {},
   "outputs": [],
   "source": [
    "def compra_venda(prices):\n",
    "    \n",
    "    variacao = (prices[1]/prices[0]) - 1\n",
    "    \n",
    "    if variacao > 0.15:\n",
    "        ordem = \"COMPRA!\"\n",
    "    elif variacao < - 0.10:\n",
    "        ordem = \"VENDA!\"\n",
    "    else:\n",
    "        ordem = \"MANTÉM!\"\n",
    "    \n",
    "    return ordem"
   ]
  },
  {
   "cell_type": "code",
   "execution_count": 6,
   "metadata": {},
   "outputs": [
    {
     "data": {
      "text/plain": [
       "'MANTÉM!'"
      ]
     },
     "execution_count": 6,
     "metadata": {},
     "output_type": "execute_result"
    }
   ],
   "source": [
    "compra_venda(prices_1)"
   ]
  },
  {
   "cell_type": "code",
   "execution_count": 7,
   "metadata": {},
   "outputs": [],
   "source": [
    "lista = [prices_1, prices_2, prices_3]"
   ]
  },
  {
   "cell_type": "code",
   "execution_count": 8,
   "metadata": {},
   "outputs": [],
   "source": [
    "ordens = list(map(lambda x : compra_venda(x), lista))"
   ]
  },
  {
   "cell_type": "code",
   "execution_count": 9,
   "metadata": {},
   "outputs": [
    {
     "data": {
      "text/plain": [
       "['MANTÉM!', 'COMPRA!', 'VENDA!']"
      ]
     },
     "execution_count": 9,
     "metadata": {},
     "output_type": "execute_result"
    }
   ],
   "source": [
    "ordens"
   ]
  },
  {
   "cell_type": "markdown",
   "metadata": {},
   "source": [
    "## #2: Contador de frequência de palavras de uma string longa"
   ]
  },
  {
   "cell_type": "code",
   "execution_count": 10,
   "metadata": {},
   "outputs": [],
   "source": [
    "# Contador de frequência de palavras de uma string longa\n",
    "\n",
    "texto = r'olá tudo bem com você? você olá tudo'\n",
    "\n",
    "\n",
    "def freq_counter(txt):\n",
    "    t = txt.replace(\"?\", \"\")\n",
    "    lista_palavras = t.split()\n",
    "    # .split é um método nativo de python. Sem parâmetros, ele divide uma string em cada \" \" dela\n",
    "    freq = [lista_palavras.count(n) for n in lista_palavras]\n",
    "    print(txt)\n",
    "    print(set(zip(lista_palavras, freq)))"
   ]
  },
  {
   "cell_type": "code",
   "execution_count": 11,
   "metadata": {
    "scrolled": true
   },
   "outputs": [
    {
     "name": "stdout",
     "output_type": "stream",
     "text": [
      "olá tudo bem com você? você olá tudo\n",
      "{('bem', 1), ('você', 2), ('olá', 2), ('com', 1), ('tudo', 2)}\n"
     ]
    }
   ],
   "source": [
    "freq_counter(texto)"
   ]
  },
  {
   "cell_type": "markdown",
   "metadata": {},
   "source": [
    "## #3: Gerador de senhas c/ letras maiúsculas, minúsculas, números e caracteres especiais"
   ]
  },
  {
   "cell_type": "code",
   "execution_count": 12,
   "metadata": {},
   "outputs": [],
   "source": [
    "import random\n",
    "\n",
    "char = \"abcdefghijklmnopqrstuvwxyzABCDEFGHIJKLMNOPQRSTUVWXYZ0123456789!@#$%^&*()?\"\n",
    "\n",
    "def generate(passlen):\n",
    "    if type(passlen) != int:\n",
    "        print(\"Por favor digite um número inteiro.\")\n",
    "    else:\n",
    "        senha = \"\".join(random.sample(char, passlen))\n",
    "        print(senha)"
   ]
  },
  {
   "cell_type": "code",
   "execution_count": 13,
   "metadata": {},
   "outputs": [
    {
     "name": "stdout",
     "output_type": "stream",
     "text": [
      "z#Dqx1i2X$\n"
     ]
    }
   ],
   "source": [
    "generate(10)"
   ]
  },
  {
   "cell_type": "markdown",
   "metadata": {},
   "source": [
    "## #4: Calcular o valor de uma função polinomial de grau N"
   ]
  },
  {
   "cell_type": "code",
   "execution_count": 14,
   "metadata": {},
   "outputs": [],
   "source": [
    "def calc_poly(degree, parameters, x_input):\n",
    "    '''\n",
    "    degree = grau do polinomio\n",
    "    parameters = lista de parametros do polinomio. Ex: [1,2,3] -> f(x) = 1 + 2x + 3x^2\n",
    "    inputs => x value => f(input) = f(1) = 1 + 2*1 + 3*1^2\n",
    "    '''\n",
    "    \n",
    "    if len(parameters) != degree + 1:\n",
    "        print('O grau do polinômio é diferente do número de parâmetros que você inseriu!')\n",
    "    \n",
    "    i = 0\n",
    "    soma = 0\n",
    "    for value in parameters:\n",
    "        k = value * (x_input ** i)\n",
    "        i = i + 1\n",
    "        soma  = soma + k\n",
    "    \n",
    "    return(soma)"
   ]
  },
  {
   "cell_type": "code",
   "execution_count": 15,
   "metadata": {},
   "outputs": [
    {
     "data": {
      "text/plain": [
       "91541"
      ]
     },
     "execution_count": 15,
     "metadata": {},
     "output_type": "execute_result"
    }
   ],
   "source": [
    "calc_poly(4, [1,4,5,1,9], 10)"
   ]
  },
  {
   "cell_type": "markdown",
   "metadata": {},
   "source": [
    "## #5: Como fazer o cálculo para uma série de números de uma vez só?"
   ]
  },
  {
   "cell_type": "code",
   "execution_count": 16,
   "metadata": {},
   "outputs": [],
   "source": [
    "import numpy as np"
   ]
  },
  {
   "cell_type": "code",
   "execution_count": 17,
   "metadata": {},
   "outputs": [],
   "source": [
    "inputs = np.linspace(0,10,100)"
   ]
  },
  {
   "cell_type": "code",
   "execution_count": 18,
   "metadata": {},
   "outputs": [
    {
     "data": {
      "text/plain": [
       "array([ 0.        ,  0.1010101 ,  0.2020202 ,  0.3030303 ,  0.4040404 ,\n",
       "        0.50505051,  0.60606061,  0.70707071,  0.80808081,  0.90909091,\n",
       "        1.01010101,  1.11111111,  1.21212121,  1.31313131,  1.41414141,\n",
       "        1.51515152,  1.61616162,  1.71717172,  1.81818182,  1.91919192,\n",
       "        2.02020202,  2.12121212,  2.22222222,  2.32323232,  2.42424242,\n",
       "        2.52525253,  2.62626263,  2.72727273,  2.82828283,  2.92929293,\n",
       "        3.03030303,  3.13131313,  3.23232323,  3.33333333,  3.43434343,\n",
       "        3.53535354,  3.63636364,  3.73737374,  3.83838384,  3.93939394,\n",
       "        4.04040404,  4.14141414,  4.24242424,  4.34343434,  4.44444444,\n",
       "        4.54545455,  4.64646465,  4.74747475,  4.84848485,  4.94949495,\n",
       "        5.05050505,  5.15151515,  5.25252525,  5.35353535,  5.45454545,\n",
       "        5.55555556,  5.65656566,  5.75757576,  5.85858586,  5.95959596,\n",
       "        6.06060606,  6.16161616,  6.26262626,  6.36363636,  6.46464646,\n",
       "        6.56565657,  6.66666667,  6.76767677,  6.86868687,  6.96969697,\n",
       "        7.07070707,  7.17171717,  7.27272727,  7.37373737,  7.47474747,\n",
       "        7.57575758,  7.67676768,  7.77777778,  7.87878788,  7.97979798,\n",
       "        8.08080808,  8.18181818,  8.28282828,  8.38383838,  8.48484848,\n",
       "        8.58585859,  8.68686869,  8.78787879,  8.88888889,  8.98989899,\n",
       "        9.09090909,  9.19191919,  9.29292929,  9.39393939,  9.49494949,\n",
       "        9.5959596 ,  9.6969697 ,  9.7979798 ,  9.8989899 , 10.        ])"
      ]
     },
     "execution_count": 18,
     "metadata": {},
     "output_type": "execute_result"
    }
   ],
   "source": [
    "inputs"
   ]
  },
  {
   "cell_type": "markdown",
   "metadata": {},
   "source": [
    "### Expressões Lambda"
   ]
  },
  {
   "cell_type": "code",
   "execution_count": 19,
   "metadata": {},
   "outputs": [],
   "source": [
    "degree = 2\n",
    "parameters = [1,1,1]"
   ]
  },
  {
   "cell_type": "code",
   "execution_count": 20,
   "metadata": {},
   "outputs": [],
   "source": [
    "function = lambda x : calc_poly(degree, parameters, x)"
   ]
  },
  {
   "cell_type": "code",
   "execution_count": 21,
   "metadata": {},
   "outputs": [],
   "source": [
    "results = map(function, inputs)"
   ]
  },
  {
   "cell_type": "code",
   "execution_count": 22,
   "metadata": {},
   "outputs": [
    {
     "name": "stdout",
     "output_type": "stream",
     "text": [
      "[1.0, 1.111213141516172, 1.2428323640444852, 1.3948576675849402, 1.5672890521375369, 1.7601265177022754, 1.9733700642791552, 2.207019691868177, 2.4610754004693396, 2.7355371900826446, 3.0304050607080915, 3.345679012345679, 3.681359044995409, 4.03744515865728, 4.413937353331293, 4.810835629017447, 5.2281399857157425, 5.66585042342618, 6.12396694214876, 6.602489541883481, 7.101418222630345, 7.620752984389347, 8.160493827160494, 8.720640750943781, 9.301193755739211, 9.90215284154678, 10.523518008366494, 11.165289256198346, 11.827466585042343, 12.510049994898479, 13.213039485766757, 13.936435057647177, 14.68023671053974, 15.444444444444446, 16.229058259361288, 17.034078155290278, 17.859504132231404, 18.705336190184674, 19.571574329150085, 20.45821854912764, 21.36526885011734, 22.292725232119167, 23.240587695133147, 24.208856239159267, 25.19753086419753, 26.20661157024793, 27.23609835731048, 28.285991225385164, 29.356290174471994, 30.446995204570968, 31.558106315682068, 32.68962350780532, 33.84154678094072, 35.01387613508826, 36.20661157024793, 37.41975308641975, 38.65330068360371, 39.90725436179982, 41.18161412100805, 42.47637996122844, 43.79155188246097, 45.12712988470564, 46.483113967962446, 47.85950413223141, 49.256300377512495, 50.67350270380574, 52.111111111111114, 53.569125599428624, 55.04754616875829, 56.54637281910009, 58.06560555045404, 59.60524436282011, 61.16528925619834, 62.74574023058871, 64.34659728599124, 65.96786042240586, 67.60952963983267, 69.2716049382716, 70.95408631772268, 72.65697377818589, 74.38026731966127, 76.12396694214877, 77.88807264564838, 79.67258443016019, 81.4775022956841, 83.30282624222019, 85.14855626976839, 87.01469237832872, 88.90123456790124, 90.80818283848586, 92.73553719008262, 94.68329762269157, 96.65146413631261, 98.64003673094582, 100.64901540659116, 102.67840016324864, 104.72819100091829, 106.79838791960003, 108.88899091929396, 111.0]\n"
     ]
    }
   ],
   "source": [
    "print(list(results))"
   ]
  },
  {
   "cell_type": "markdown",
   "metadata": {},
   "source": [
    "##  #6: Montar uma função fatorial"
   ]
  },
  {
   "cell_type": "code",
   "execution_count": 23,
   "metadata": {},
   "outputs": [],
   "source": [
    "def factorial(n):\n",
    "    \n",
    "    if type(n) != int:\n",
    "        print('Insira um número inteiro!')\n",
    "        \n",
    "    else:\n",
    "        \n",
    "        if n == 0:\n",
    "            fact = 1\n",
    "        else:\n",
    "            fact = n * factorial(n-1)\n",
    "        \n",
    "        return(fact)\n",
    "    "
   ]
  },
  {
   "cell_type": "code",
   "execution_count": 24,
   "metadata": {},
   "outputs": [
    {
     "data": {
      "text/plain": [
       "120"
      ]
     },
     "execution_count": 24,
     "metadata": {},
     "output_type": "execute_result"
    }
   ],
   "source": [
    "factorial(5)"
   ]
  },
  {
   "cell_type": "code",
   "execution_count": 25,
   "metadata": {},
   "outputs": [],
   "source": [
    "#VAMOS CHECAR PARA VARIOS NUMEROS"
   ]
  },
  {
   "cell_type": "code",
   "execution_count": 26,
   "metadata": {},
   "outputs": [],
   "source": [
    "numeros = range(10)"
   ]
  },
  {
   "cell_type": "code",
   "execution_count": 27,
   "metadata": {},
   "outputs": [],
   "source": [
    "fatoriais = map(lambda x: factorial(x), numeros)"
   ]
  },
  {
   "cell_type": "code",
   "execution_count": 28,
   "metadata": {},
   "outputs": [
    {
     "data": {
      "text/plain": [
       "[1, 1, 2, 6, 24, 120, 720, 5040, 40320, 362880]"
      ]
     },
     "execution_count": 28,
     "metadata": {},
     "output_type": "execute_result"
    }
   ],
   "source": [
    "list(fatoriais)"
   ]
  },
  {
   "cell_type": "markdown",
   "metadata": {},
   "source": [
    "## #7: Jogo da Forca"
   ]
  },
  {
   "cell_type": "code",
   "execution_count": 29,
   "metadata": {},
   "outputs": [],
   "source": [
    "palavra = \"alalalalal\"\n",
    "lista = list(palavra)\n",
    "lista = set(lista)"
   ]
  },
  {
   "cell_type": "code",
   "execution_count": 30,
   "metadata": {},
   "outputs": [
    {
     "data": {
      "text/plain": [
       "{'a', 'l'}"
      ]
     },
     "execution_count": 30,
     "metadata": {},
     "output_type": "execute_result"
    }
   ],
   "source": [
    "lista"
   ]
  },
  {
   "cell_type": "code",
   "execution_count": 31,
   "metadata": {},
   "outputs": [],
   "source": [
    "lista.remove('l')"
   ]
  },
  {
   "cell_type": "code",
   "execution_count": 32,
   "metadata": {},
   "outputs": [
    {
     "data": {
      "text/plain": [
       "{'a'}"
      ]
     },
     "execution_count": 32,
     "metadata": {},
     "output_type": "execute_result"
    }
   ],
   "source": [
    "lista"
   ]
  },
  {
   "cell_type": "code",
   "execution_count": 33,
   "metadata": {},
   "outputs": [],
   "source": [
    "a = set()"
   ]
  },
  {
   "cell_type": "code",
   "execution_count": 34,
   "metadata": {},
   "outputs": [
    {
     "data": {
      "text/plain": [
       "0"
      ]
     },
     "execution_count": 34,
     "metadata": {},
     "output_type": "execute_result"
    }
   ],
   "source": [
    "len(a)"
   ]
  },
  {
   "cell_type": "code",
   "execution_count": 35,
   "metadata": {},
   "outputs": [],
   "source": [
    "def jogo_da_forca(n_tentativas):\n",
    "    \n",
    "    palavra = input(\"Insira uma palavra a ser adivinhada: \")\n",
    "    \n",
    "    if type(palavra) != str:\n",
    "        print(\"Insira uma palavra!!!\")\n",
    "        \n",
    "    else:\n",
    "        letras = list(palavra)\n",
    "        letras = set(letras)\n",
    "        \n",
    "        trials = n_tentativas\n",
    "        \n",
    "        while (trials > 0):\n",
    "            \n",
    "            tentativa = input(\"Diga uma letra: \")\n",
    "            \n",
    "            if tentativa in letras:\n",
    "                letras.remove(tentativa)\n",
    "            \n",
    "            trials = trials - 1\n",
    "            \n",
    "            if len(letras) == 0:\n",
    "                print(\"Parabéns, vc ganhou!!!\")\n",
    "                return None\n",
    "            \n",
    "            if trials == 0:\n",
    "                if len(letras) == 0:\n",
    "                    print(\"Parabéns, vc ganhou!!!\")\n",
    "                else:\n",
    "                    print(\"Você Perdeu!!!\")\n",
    "            "
   ]
  },
  {
   "cell_type": "code",
   "execution_count": 36,
   "metadata": {},
   "outputs": [
    {
     "name": "stdout",
     "output_type": "stream",
     "text": [
      "Insira uma palavra a ser adivinhada: banana\n",
      "Diga uma letra: b\n",
      "Diga uma letra: a\n",
      "Diga uma letra: n\n",
      "Parabéns, vc ganhou!!!\n"
     ]
    }
   ],
   "source": [
    "jogo_da_forca(6)"
   ]
  }
 ],
 "metadata": {
  "kernelspec": {
   "display_name": "Python 3",
   "language": "python",
   "name": "python3"
  },
  "language_info": {
   "codemirror_mode": {
    "name": "ipython",
    "version": 3
   },
   "file_extension": ".py",
   "mimetype": "text/x-python",
   "name": "python",
   "nbconvert_exporter": "python",
   "pygments_lexer": "ipython3",
   "version": "3.6.5"
  }
 },
 "nbformat": 4,
 "nbformat_minor": 2
}
