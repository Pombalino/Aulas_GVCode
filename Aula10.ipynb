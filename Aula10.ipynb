{
 "cells": [
  {
   "cell_type": "markdown",
   "metadata": {},
   "source": [
    "![Enigma_Machine](https://i0.wp.com/ct.excelwa.org/wp-content/uploads/enigma_machine.jpg?resize=960%2C540)"
   ]
  },
  {
   "cell_type": "code",
   "execution_count": 1,
   "metadata": {},
   "outputs": [],
   "source": [
    "# As principais partes de um Enigma\n",
    "from enigma.rotors.rotor import Rotor\n",
    "from enigma.plugboard import Plugboard\n",
    "from enigma.machine import EnigmaMachine"
   ]
  },
  {
   "cell_type": "markdown",
   "metadata": {},
   "source": [
    "![Rotors](https://www.i-programmer.info/images/stories/News/2015/July/A/sothebyenigma2.jpg)"
   ]
  },
  {
   "cell_type": "code",
   "execution_count": 2,
   "metadata": {},
   "outputs": [],
   "source": [
    "# Cada rotor embaralha a letra do input. O primeiro roda a cada letra.\n",
    "# O segundo, a cada vez que o primeiro rodar até o \"stepping\"\n",
    "# E o terceiro, a cada vez que o segundo rodar até o \"stepping\"\n",
    "# Ring setting significa qual letra será a equivalente a A, basicamente\n",
    "r1 = Rotor('my rotor1', 'EKMFLGDQVZNTOWYHXUSPAIBRCJ', ring_setting=0, stepping='Q')\n",
    "r2 = Rotor('my rotor2', 'AJDKSIRUXBLHWTMCQGZNPYFVOE', ring_setting=5, stepping='E')\n",
    "r3 = Rotor('my rotor3', 'BDFHJLCPRTXVZNYEIWGAKMUSQO', ring_setting=15, stepping='V')"
   ]
  },
  {
   "cell_type": "markdown",
   "metadata": {},
   "source": [
    "![Reflector](https://upload.wikimedia.org/wikipedia/commons/3/33/EnigmaReflector.jpg)"
   ]
  },
  {
   "cell_type": "code",
   "execution_count": 3,
   "metadata": {},
   "outputs": [],
   "source": [
    "# O refletor é mais uma etapa de embaralhamento, que troca o sinal vindo do terceiro rotor e envia de volta pelos rotores\n",
    "reflector = Rotor('my reflector', 'FVPJIAOYEDRZXWGCTKUQSBNMHL')"
   ]
  },
  {
   "cell_type": "markdown",
   "metadata": {},
   "source": [
    "![Pflugboard](https://upload.wikimedia.org/wikipedia/commons/thumb/2/27/Enigma-plugboard.jpg/220px-Enigma-plugboard.jpg)"
   ]
  },
  {
   "cell_type": "code",
   "execution_count": 4,
   "metadata": {},
   "outputs": [],
   "source": [
    "# A Plugboard pega o botão apertado e troca a letra antes dos rotores\n",
    "# E também depois, antes de acender a luz da resposta\n",
    "pb = Plugboard.from_key_sheet('PO ML IU KJ NH YT GB VF RE DC')"
   ]
  },
  {
   "cell_type": "code",
   "execution_count": 5,
   "metadata": {},
   "outputs": [],
   "source": [
    "# Agora a máquina está montada\n",
    "machine = EnigmaMachine([r1, r2, r3], reflector, pb)"
   ]
  },
  {
   "cell_type": "code",
   "execution_count": 6,
   "metadata": {},
   "outputs": [],
   "source": [
    "# Basta colocar os rotores na posição inicial\n",
    "machine.set_display('WXC')"
   ]
  },
  {
   "cell_type": "code",
   "execution_count": 7,
   "metadata": {},
   "outputs": [],
   "source": [
    "# Decriptar a chave daquela mensagem (código de 3 letras no começo da mensagem, presente numa tabela)\n",
    "msg_key = machine.process_text('KCH')"
   ]
  },
  {
   "cell_type": "code",
   "execution_count": 8,
   "metadata": {},
   "outputs": [],
   "source": [
    "# E colocar a posição na dita pela mensagem decriptada\n",
    "machine.set_display(msg_key)"
   ]
  },
  {
   "cell_type": "code",
   "execution_count": 9,
   "metadata": {},
   "outputs": [],
   "source": [
    "# Agora é só passar uma string com a mensagem pela máquina\n",
    "ciphertext = 'QPGZJMXOEVUNFUFGBKCHUOK'\n",
    "plaintext = machine.process_text(ciphertext)\n",
    "\n",
    "print(plaintext)"
   ]
  }
 ],
 "metadata": {
  "kernelspec": {
   "display_name": "Python 3",
   "language": "python",
   "name": "python3"
  },
  "language_info": {
   "codemirror_mode": {
    "name": "ipython",
    "version": 3
   },
   "file_extension": ".py",
   "mimetype": "text/x-python",
   "name": "python",
   "nbconvert_exporter": "python",
   "pygments_lexer": "ipython3",
   "version": "3.6.5"
  }
 },
 "nbformat": 4,
 "nbformat_minor": 2
}
